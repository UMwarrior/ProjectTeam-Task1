{
 "cells": [
  {
   "cell_type": "code",
   "execution_count": 1,
   "id": "289491c7",
   "metadata": {},
   "outputs": [],
   "source": [
    "import pandas as pd\n",
    "# \"The cleaning supply\"\n",
    "import re\n",
    "import string\n",
    "# \"NLP Supply\"\n",
    "import nltk\n",
    "from nltk.stem import WordNetLemmatizer\n",
    "from nltk.stem.snowball import SnowballStemmer\n",
    "from nltk.corpus import stopwords"
   ]
  },
  {
   "cell_type": "code",
   "execution_count": 2,
   "id": "e1697086",
   "metadata": {},
   "outputs": [],
   "source": [
    "train = pd.read_csv('project_train.csv')\n",
    "test = pd.read_csv('project_test.csv')"
   ]
  },
  {
   "cell_type": "code",
   "execution_count": 3,
   "id": "89f3c6b0",
   "metadata": {},
   "outputs": [
    {
     "data": {
      "text/html": [
       "<div>\n",
       "<style scoped>\n",
       "    .dataframe tbody tr th:only-of-type {\n",
       "        vertical-align: middle;\n",
       "    }\n",
       "\n",
       "    .dataframe tbody tr th {\n",
       "        vertical-align: top;\n",
       "    }\n",
       "\n",
       "    .dataframe thead th {\n",
       "        text-align: right;\n",
       "    }\n",
       "</style>\n",
       "<table border=\"1\" class=\"dataframe\">\n",
       "  <thead>\n",
       "    <tr style=\"text-align: right;\">\n",
       "      <th></th>\n",
       "      <th>id</th>\n",
       "      <th>keyword</th>\n",
       "      <th>location</th>\n",
       "      <th>text</th>\n",
       "      <th>target</th>\n",
       "    </tr>\n",
       "  </thead>\n",
       "  <tbody>\n",
       "    <tr>\n",
       "      <th>0</th>\n",
       "      <td>1</td>\n",
       "      <td>NaN</td>\n",
       "      <td>NaN</td>\n",
       "      <td>Our Deeds are the Reason of this #earthquake M...</td>\n",
       "      <td>1</td>\n",
       "    </tr>\n",
       "    <tr>\n",
       "      <th>1</th>\n",
       "      <td>4</td>\n",
       "      <td>NaN</td>\n",
       "      <td>NaN</td>\n",
       "      <td>Forest fire near La Ronge Sask. Canada</td>\n",
       "      <td>1</td>\n",
       "    </tr>\n",
       "    <tr>\n",
       "      <th>2</th>\n",
       "      <td>5</td>\n",
       "      <td>NaN</td>\n",
       "      <td>NaN</td>\n",
       "      <td>All residents asked to 'shelter in place' are ...</td>\n",
       "      <td>1</td>\n",
       "    </tr>\n",
       "    <tr>\n",
       "      <th>3</th>\n",
       "      <td>6</td>\n",
       "      <td>NaN</td>\n",
       "      <td>NaN</td>\n",
       "      <td>13,000 people receive #wildfires evacuation or...</td>\n",
       "      <td>1</td>\n",
       "    </tr>\n",
       "    <tr>\n",
       "      <th>4</th>\n",
       "      <td>7</td>\n",
       "      <td>NaN</td>\n",
       "      <td>NaN</td>\n",
       "      <td>Just got sent this photo from Ruby #Alaska as ...</td>\n",
       "      <td>1</td>\n",
       "    </tr>\n",
       "  </tbody>\n",
       "</table>\n",
       "</div>"
      ],
      "text/plain": [
       "   id keyword location                                               text  \\\n",
       "0   1     NaN      NaN  Our Deeds are the Reason of this #earthquake M...   \n",
       "1   4     NaN      NaN             Forest fire near La Ronge Sask. Canada   \n",
       "2   5     NaN      NaN  All residents asked to 'shelter in place' are ...   \n",
       "3   6     NaN      NaN  13,000 people receive #wildfires evacuation or...   \n",
       "4   7     NaN      NaN  Just got sent this photo from Ruby #Alaska as ...   \n",
       "\n",
       "   target  \n",
       "0       1  \n",
       "1       1  \n",
       "2       1  \n",
       "3       1  \n",
       "4       1  "
      ]
     },
     "execution_count": 3,
     "metadata": {},
     "output_type": "execute_result"
    }
   ],
   "source": [
    "train.head()"
   ]
  },
  {
   "cell_type": "code",
   "execution_count": 4,
   "id": "8e83e5cc",
   "metadata": {},
   "outputs": [
    {
     "data": {
      "text/html": [
       "<div>\n",
       "<style scoped>\n",
       "    .dataframe tbody tr th:only-of-type {\n",
       "        vertical-align: middle;\n",
       "    }\n",
       "\n",
       "    .dataframe tbody tr th {\n",
       "        vertical-align: top;\n",
       "    }\n",
       "\n",
       "    .dataframe thead th {\n",
       "        text-align: right;\n",
       "    }\n",
       "</style>\n",
       "<table border=\"1\" class=\"dataframe\">\n",
       "  <thead>\n",
       "    <tr style=\"text-align: right;\">\n",
       "      <th></th>\n",
       "      <th>id</th>\n",
       "      <th>keyword</th>\n",
       "      <th>location</th>\n",
       "      <th>text</th>\n",
       "    </tr>\n",
       "  </thead>\n",
       "  <tbody>\n",
       "    <tr>\n",
       "      <th>0</th>\n",
       "      <td>0</td>\n",
       "      <td>NaN</td>\n",
       "      <td>NaN</td>\n",
       "      <td>Just happened a terrible car crash</td>\n",
       "    </tr>\n",
       "    <tr>\n",
       "      <th>1</th>\n",
       "      <td>2</td>\n",
       "      <td>NaN</td>\n",
       "      <td>NaN</td>\n",
       "      <td>Heard about #earthquake is different cities, s...</td>\n",
       "    </tr>\n",
       "    <tr>\n",
       "      <th>2</th>\n",
       "      <td>3</td>\n",
       "      <td>NaN</td>\n",
       "      <td>NaN</td>\n",
       "      <td>there is a forest fire at spot pond, geese are...</td>\n",
       "    </tr>\n",
       "    <tr>\n",
       "      <th>3</th>\n",
       "      <td>9</td>\n",
       "      <td>NaN</td>\n",
       "      <td>NaN</td>\n",
       "      <td>Apocalypse lighting. #Spokane #wildfires</td>\n",
       "    </tr>\n",
       "    <tr>\n",
       "      <th>4</th>\n",
       "      <td>11</td>\n",
       "      <td>NaN</td>\n",
       "      <td>NaN</td>\n",
       "      <td>Typhoon Soudelor kills 28 in China and Taiwan</td>\n",
       "    </tr>\n",
       "  </tbody>\n",
       "</table>\n",
       "</div>"
      ],
      "text/plain": [
       "   id keyword location                                               text\n",
       "0   0     NaN      NaN                 Just happened a terrible car crash\n",
       "1   2     NaN      NaN  Heard about #earthquake is different cities, s...\n",
       "2   3     NaN      NaN  there is a forest fire at spot pond, geese are...\n",
       "3   9     NaN      NaN           Apocalypse lighting. #Spokane #wildfires\n",
       "4  11     NaN      NaN      Typhoon Soudelor kills 28 in China and Taiwan"
      ]
     },
     "execution_count": 4,
     "metadata": {},
     "output_type": "execute_result"
    }
   ],
   "source": [
    "test.head()"
   ]
  },
  {
   "cell_type": "code",
   "execution_count": 5,
   "id": "5474586a",
   "metadata": {},
   "outputs": [],
   "source": [
    "wordnet_lemmatizer = WordNetLemmatizer()\n",
    "englishStemmer=SnowballStemmer(\"english\")\n",
    "\n",
    "def clean_text(x):\n",
    "    temp_text = x.lower().replace('\\u200b', '')\n",
    "    temp_text = temp_text.translate(str.maketrans('', '', string.punctuation))\n",
    "    temp_text = temp_text.replace('\\n', '')\n",
    "    temp_text = re.sub(' +', ' ', temp_text).strip()\n",
    "    temp_text = nltk.word_tokenize(temp_text)\n",
    "    stop_words = set(stopwords.words('english'))\n",
    "    \n",
    "    filtered_word = []\n",
    "    \n",
    "    for word in temp_text:\n",
    "        lemma_word = wordnet_lemmatizer.lemmatize(word)\n",
    "        stemmed_word = englishStemmer.stem(lemma_word)\n",
    "        if stemmed_word in stop_words:\n",
    "            continue\n",
    "        else:\n",
    "            filtered_word.append(stemmed_word)\n",
    "            \n",
    "    return \" \".join(filtered_word).strip()"
   ]
  },
  {
   "cell_type": "code",
   "execution_count": 6,
   "id": "865ba02e",
   "metadata": {},
   "outputs": [],
   "source": [
    "train['text'] = train['text'].apply(clean_text)\n",
    "test['text'] = test['text'].apply(clean_text)"
   ]
  },
  {
   "cell_type": "code",
   "execution_count": 7,
   "id": "ad7d44fe",
   "metadata": {},
   "outputs": [],
   "source": [
    "VAL_PERCENTAGE = 0.2\n",
    "N_VAL = int(len(train) * VAL_PERCENTAGE)\n",
    "\n",
    "# Shuffle train DataFrame also reset the shuffled index\n",
    "train = train.sample(frac=1).reset_index(drop=True)\n",
    "\n",
    "# Set validation DataFrame as having the first N_VAL row\n",
    "val_data = train[:N_VAL]\n",
    "\n",
    "# Set train DataFrame as the rest\n",
    "train_data = train[N_VAL:]"
   ]
  },
  {
   "cell_type": "code",
   "execution_count": 8,
   "id": "687f3492",
   "metadata": {},
   "outputs": [
    {
     "data": {
      "text/html": [
       "<div>\n",
       "<style scoped>\n",
       "    .dataframe tbody tr th:only-of-type {\n",
       "        vertical-align: middle;\n",
       "    }\n",
       "\n",
       "    .dataframe tbody tr th {\n",
       "        vertical-align: top;\n",
       "    }\n",
       "\n",
       "    .dataframe thead th {\n",
       "        text-align: right;\n",
       "    }\n",
       "</style>\n",
       "<table border=\"1\" class=\"dataframe\">\n",
       "  <thead>\n",
       "    <tr style=\"text-align: right;\">\n",
       "      <th></th>\n",
       "      <th>id</th>\n",
       "      <th>target</th>\n",
       "    </tr>\n",
       "  </thead>\n",
       "  <tbody>\n",
       "    <tr>\n",
       "      <th>count</th>\n",
       "      <td>1522.000000</td>\n",
       "      <td>1522.000000</td>\n",
       "    </tr>\n",
       "    <tr>\n",
       "      <th>mean</th>\n",
       "      <td>5383.296321</td>\n",
       "      <td>0.414586</td>\n",
       "    </tr>\n",
       "    <tr>\n",
       "      <th>std</th>\n",
       "      <td>3119.317275</td>\n",
       "      <td>0.492812</td>\n",
       "    </tr>\n",
       "    <tr>\n",
       "      <th>min</th>\n",
       "      <td>4.000000</td>\n",
       "      <td>0.000000</td>\n",
       "    </tr>\n",
       "    <tr>\n",
       "      <th>25%</th>\n",
       "      <td>2684.000000</td>\n",
       "      <td>0.000000</td>\n",
       "    </tr>\n",
       "    <tr>\n",
       "      <th>50%</th>\n",
       "      <td>5285.500000</td>\n",
       "      <td>0.000000</td>\n",
       "    </tr>\n",
       "    <tr>\n",
       "      <th>75%</th>\n",
       "      <td>8061.500000</td>\n",
       "      <td>1.000000</td>\n",
       "    </tr>\n",
       "    <tr>\n",
       "      <th>max</th>\n",
       "      <td>10869.000000</td>\n",
       "      <td>1.000000</td>\n",
       "    </tr>\n",
       "  </tbody>\n",
       "</table>\n",
       "</div>"
      ],
      "text/plain": [
       "                 id       target\n",
       "count   1522.000000  1522.000000\n",
       "mean    5383.296321     0.414586\n",
       "std     3119.317275     0.492812\n",
       "min        4.000000     0.000000\n",
       "25%     2684.000000     0.000000\n",
       "50%     5285.500000     0.000000\n",
       "75%     8061.500000     1.000000\n",
       "max    10869.000000     1.000000"
      ]
     },
     "execution_count": 8,
     "metadata": {},
     "output_type": "execute_result"
    }
   ],
   "source": [
    "val_data.describe()"
   ]
  },
  {
   "cell_type": "code",
   "execution_count": 9,
   "id": "f30a40e0",
   "metadata": {},
   "outputs": [
    {
     "data": {
      "text/html": [
       "<div>\n",
       "<style scoped>\n",
       "    .dataframe tbody tr th:only-of-type {\n",
       "        vertical-align: middle;\n",
       "    }\n",
       "\n",
       "    .dataframe tbody tr th {\n",
       "        vertical-align: top;\n",
       "    }\n",
       "\n",
       "    .dataframe thead th {\n",
       "        text-align: right;\n",
       "    }\n",
       "</style>\n",
       "<table border=\"1\" class=\"dataframe\">\n",
       "  <thead>\n",
       "    <tr style=\"text-align: right;\">\n",
       "      <th></th>\n",
       "      <th>id</th>\n",
       "      <th>target</th>\n",
       "    </tr>\n",
       "  </thead>\n",
       "  <tbody>\n",
       "    <tr>\n",
       "      <th>count</th>\n",
       "      <td>6091.000000</td>\n",
       "      <td>6091.000000</td>\n",
       "    </tr>\n",
       "    <tr>\n",
       "      <th>mean</th>\n",
       "      <td>5456.587260</td>\n",
       "      <td>0.433426</td>\n",
       "    </tr>\n",
       "    <tr>\n",
       "      <th>std</th>\n",
       "      <td>3141.631925</td>\n",
       "      <td>0.495589</td>\n",
       "    </tr>\n",
       "    <tr>\n",
       "      <th>min</th>\n",
       "      <td>1.000000</td>\n",
       "      <td>0.000000</td>\n",
       "    </tr>\n",
       "    <tr>\n",
       "      <th>25%</th>\n",
       "      <td>2756.500000</td>\n",
       "      <td>0.000000</td>\n",
       "    </tr>\n",
       "    <tr>\n",
       "      <th>50%</th>\n",
       "      <td>5428.000000</td>\n",
       "      <td>0.000000</td>\n",
       "    </tr>\n",
       "    <tr>\n",
       "      <th>75%</th>\n",
       "      <td>8173.500000</td>\n",
       "      <td>1.000000</td>\n",
       "    </tr>\n",
       "    <tr>\n",
       "      <th>max</th>\n",
       "      <td>10873.000000</td>\n",
       "      <td>1.000000</td>\n",
       "    </tr>\n",
       "  </tbody>\n",
       "</table>\n",
       "</div>"
      ],
      "text/plain": [
       "                 id       target\n",
       "count   6091.000000  6091.000000\n",
       "mean    5456.587260     0.433426\n",
       "std     3141.631925     0.495589\n",
       "min        1.000000     0.000000\n",
       "25%     2756.500000     0.000000\n",
       "50%     5428.000000     0.000000\n",
       "75%     8173.500000     1.000000\n",
       "max    10873.000000     1.000000"
      ]
     },
     "execution_count": 9,
     "metadata": {},
     "output_type": "execute_result"
    }
   ],
   "source": [
    "train_data.describe()"
   ]
  },
  {
   "cell_type": "code",
   "execution_count": 10,
   "id": "57e34126",
   "metadata": {},
   "outputs": [],
   "source": [
    "validation_file_path = \"./text.val\"\n",
    "training_file_path = \"./text.train\"\n",
    "\n",
    "def append_fasttext_dataset(row, file_writer):\n",
    "    def convert_row_to_dataset_string(row):\n",
    "        return \"__label__\" + str(row['target']) + \" \" + row['text']\n",
    "    \n",
    "    file_writer.write(convert_row_to_dataset_string(row) + '\\n')\n"
   ]
  },
  {
   "cell_type": "code",
   "execution_count": 11,
   "id": "d7d1bf39",
   "metadata": {},
   "outputs": [],
   "source": [
    "with open(validation_file_path, 'a+') as writer:\n",
    "    val_data.apply(lambda x: append_fasttext_dataset(x, writer), axis=1)\n",
    "    \n",
    "# Training file\n",
    "with open(training_file_path, 'a+') as writer:\n",
    "    train_data.apply(lambda x: append_fasttext_dataset(x, writer), axis=1)"
   ]
  },
  {
   "cell_type": "code",
   "execution_count": 12,
   "id": "47457284",
   "metadata": {},
   "outputs": [
    {
     "data": {
      "text/plain": [
       "<AxesSubplot:>"
      ]
     },
     "execution_count": 12,
     "metadata": {},
     "output_type": "execute_result"
    },
    {
     "data": {
      "image/png": "[encoded data removed]",
      "text/plain": [
       "<Figure size 432x288 with 1 Axes>"
      ]
     },
     "metadata": {
      "needs_background": "light"
     },
     "output_type": "display_data"
    }
   ],
   "source": [
    "train_data['target'].value_counts().plot.bar()"
   ]
  },
  {
   "cell_type": "code",
   "execution_count": 13,
   "id": "d938be9d",
   "metadata": {},
   "outputs": [
    {
     "data": {
      "text/plain": [
       "<AxesSubplot:>"
      ]
     },
     "execution_count": 13,
     "metadata": {},
     "output_type": "execute_result"
    },
    {
     "data": {
      "image/png": "[encoded data removed]",
      "text/plain": [
       "<Figure size 432x288 with 1 Axes>"
      ]
     },
     "metadata": {
      "needs_background": "light"
     },
     "output_type": "display_data"
    }
   ],
   "source": [
    "val_data['target'].value_counts().plot.bar()"
   ]
  },
  {
   "cell_type": "code",
   "execution_count": 14,
   "id": "4c3a1f14",
   "metadata": {},
   "outputs": [],
   "source": [
    "import fasttext"
   ]
  },
  {
   "cell_type": "code",
   "execution_count": 15,
   "id": "0c9a4d41",
   "metadata": {},
   "outputs": [],
   "source": [
    "hyper_params = {\n",
    "    \"lr\": 0.01,\n",
    "    \"epoch\": 15,\n",
    "    \"wordNgrams\": 2,\n",
    "    \"dim\": 20,\n",
    "    \"verbose\": 1\n",
    "}"
   ]
  },
  {
   "cell_type": "code",
   "execution_count": 16,
   "id": "f863386e",
   "metadata": {},
   "outputs": [
    {
     "name": "stderr",
     "output_type": "stream",
     "text": [
      "Read 0M words\n",
      "Number of words:  19630\n",
      "Number of labels: 2\n",
      "Progress: 100.0% words/sec/thread: 2997287 lr:  0.000000 avg.loss:  0.384095 ETA:   0h 0m 0s\n"
     ]
    }
   ],
   "source": [
    "model = fasttext.train_supervised(input=training_file_path, **hyper_params)"
   ]
  },
  {
   "cell_type": "code",
   "execution_count": 17,
   "id": "6bdff99d",
   "metadata": {},
   "outputs": [],
   "source": [
    "import matplotlib.pyplot as plt"
   ]
  },
  {
   "cell_type": "code",
   "execution_count": 18,
   "id": "06ae7055",
   "metadata": {},
   "outputs": [
    {
     "ename": "NameError",
     "evalue": "name 'hyper_params_autotuning_metrics' is not defined",
     "output_type": "error",
     "traceback": [
      "\u001b[0;31m---------------------------------------------------------------------------\u001b[0m",
      "\u001b[0;31mNameError\u001b[0m                                 Traceback (most recent call last)",
      "\u001b[0;32m/var/folders/7k/1h8g8hq95s1508rrp6cxtpv40000gn/T/ipykernel_14216/192096370.py\u001b[0m in \u001b[0;36m<module>\u001b[0;34m\u001b[0m\n\u001b[0;32m----> 1\u001b[0;31m \u001b[0mmodel_autotuning_metrics\u001b[0m \u001b[0;34m=\u001b[0m \u001b[0mfasttext\u001b[0m\u001b[0;34m.\u001b[0m\u001b[0mtrain_supervised\u001b[0m\u001b[0;34m(\u001b[0m\u001b[0minput\u001b[0m\u001b[0;34m=\u001b[0m\u001b[0mtraining_file_path\u001b[0m\u001b[0;34m,\u001b[0m \u001b[0;34m**\u001b[0m\u001b[0mhyper_params_autotuning_metrics\u001b[0m\u001b[0;34m)\u001b[0m\u001b[0;34m\u001b[0m\u001b[0;34m\u001b[0m\u001b[0m\n\u001b[0m",
      "\u001b[0;31mNameError\u001b[0m: name 'hyper_params_autotuning_metrics' is not defined"
     ]
    }
   ],
   "source": [
    "model_autotuning_metrics = fasttext.train_supervised(input=training_file_path, **hyper_params_autotuning_metrics)"
   ]
  },
  {
   "cell_type": "code",
   "execution_count": null,
   "id": "3098b2ae",
   "metadata": {},
   "outputs": [],
   "source": [
    "result = model.test(training_file_path)\n",
    "validation = model.test(validation_file_path)\n",
    "\n",
    "print(\"Result : \", result)\n",
    "print(\"Validation : \", validation)\n",
    "\n",
    "# Plot the result\n",
    "accuracy_data = [result[1], validation[1]]\n",
    "labels = ['Model Accuracy', 'Validation Accuracy']\n",
    "\n",
    "plt.title(\"Model accuracy\")\n",
    "plt.bar(labels, accuracy_data)\n",
    "plt.show()"
   ]
  },
  {
   "cell_type": "code",
   "execution_count": null,
   "id": "65cb03fe",
   "metadata": {},
   "outputs": [],
   "source": [
    "def get_predicted_rating(x, model):\n",
    "    return int(model.predict(x)[0][0].split('__label__')[1])"
   ]
  },
  {
   "cell_type": "code",
   "execution_count": null,
   "id": "cde29fd3",
   "metadata": {},
   "outputs": [],
   "source": [
    "val_data['predicted'] = val_data['text'].apply(lambda x: get_predicted_rating(x, model))"
   ]
  },
  {
   "cell_type": "code",
   "execution_count": 23,
   "id": "7843709a",
   "metadata": {},
   "outputs": [],
   "source": [
    "import numpy as np\n",
    "import seaborn as sns\n",
    "from sklearn.metrics import confusion_matrix"
   ]
  },
  {
   "cell_type": "code",
   "execution_count": 24,
   "id": "1e820ac4",
   "metadata": {},
   "outputs": [
    {
     "name": "stderr",
     "output_type": "stream",
     "text": [
      "/var/folders/7k/1h8g8hq95s1508rrp6cxtpv40000gn/T/ipykernel_14041/12301028.py:3: RuntimeWarning: invalid value encountered in true_divide\n",
      "  normalised_confusion_matrix = confusion_matrix_data.astype('float') / confusion_matrix_data.sum(axis=1)[:, np.newaxis]\n"
     ]
    }
   ],
   "source": [
    "confusion_labels = [1, 2, 3, 4, 5]\n",
    "confusion_matrix_data = confusion_matrix(val_data[\"target\"], val_data[\"predicted\"], labels=confusion_labels)\n",
    "normalised_confusion_matrix = confusion_matrix_data.astype('float') / confusion_matrix_data.sum(axis=1)[:, np.newaxis]"
   ]
  },
  {
   "cell_type": "code",
   "execution_count": 25,
   "id": "c423564a",
   "metadata": {},
   "outputs": [
    {
     "data": {
      "text/plain": [
       "[Text(0, 0.5, '1'),\n",
       " Text(0, 1.5, '2'),\n",
       " Text(0, 2.5, '3'),\n",
       " Text(0, 3.5, '4'),\n",
       " Text(0, 4.5, '5')]"
      ]
     },
     "execution_count": 25,
     "metadata": {},
     "output_type": "execute_result"
    },
    {
     "data": {
      "image/png": "[encoded data removed]",
      "text/plain": [
       "<Figure size 432x288 with 2 Axes>"
      ]
     },
     "metadata": {
      "needs_background": "light"
     },
     "output_type": "display_data"
    }
   ],
   "source": [
    "ax = plt.subplot()\n",
    "sns.heatmap(normalised_confusion_matrix, annot=True, ax=ax, fmt='.2f');\n",
    "\n",
    "ax.set_title('Normalized Confusion Matrix')\n",
    "\n",
    "ax.set_xlabel('Predicted labels')\n",
    "ax.set_ylabel('True labels')\n",
    "\n",
    "ax.xaxis.set_ticklabels(confusion_labels)\n",
    "ax.yaxis.set_ticklabels(confusion_labels)"
   ]
  },
  {
   "cell_type": "code",
   "execution_count": 26,
   "id": "8bff686d",
   "metadata": {},
   "outputs": [],
   "source": [
    "hyper_params_autotuning = {\n",
    "    \"lr\": 0.06,\n",
    "    \"epoch\": 20,\n",
    "    \"wordNgrams\": 2,\n",
    "    \"dim\": 20,\n",
    "    \"verbose\": 1,\n",
    "    \"autotuneValidationFile\": validation_file_path\n",
    "}"
   ]
  },
  {
   "cell_type": "code",
   "execution_count": 28,
   "id": "59df8287",
   "metadata": {},
   "outputs": [],
   "source": [
    "hyper_params_autotuning_metrics_5 = {\n",
    "    \"lr\": 0.1,\n",
    "    \"epoch\": model.epoch,\n",
    "    \"wordNgrams\": 2,\n",
    "    \"dim\": 50,\n",
    "    \"verbose\": 2,\n",
    "    \"autotuneValidationFile\": validation_file_path,\n",
    "    \"autotuneMetric\": \"f1:__label__5\"\n",
    "}"
   ]
  },
  {
   "cell_type": "code",
   "execution_count": null,
   "id": "18cbe3a4",
   "metadata": {},
   "outputs": [
    {
     "name": "stderr",
     "output_type": "stream",
     "text": [
      "Warning : wordNgrams is manually set to a specific value. It will not be automatically optimized.\n",
      "Warning : dim is manually set to a specific value. It will not be automatically optimized.\n",
      "Warning : lr is manually set to a specific value. It will not be automatically optimized.\n",
      "Warning : epoch is manually set to a specific value. It will not be automatically optimized.\n"
     ]
    }
   ],
   "source": [
    "model_autotuning_metrics_5 = fasttext.train_supervised(input=training_file_path, **hyper_params_autotuning_metrics_5)"
   ]
  },
  {
   "cell_type": "code",
   "execution_count": null,
   "id": "67681bde",
   "metadata": {},
   "outputs": [],
   "source": []
  }
 ],
 "metadata": {
  "kernelspec": {
   "display_name": "Python 3 (ipykernel)",
   "language": "python",
   "name": "python3"
  },
  "language_info": {
   "codemirror_mode": {
    "name": "ipython",
    "version": 3
   },
   "file_extension": ".py",
   "mimetype": "text/x-python",
   "name": "python",
   "nbconvert_exporter": "python",
   "pygments_lexer": "ipython3",
   "version": "3.9.6"
  }
 },
 "nbformat": 4,
 "nbformat_minor": 5
}
